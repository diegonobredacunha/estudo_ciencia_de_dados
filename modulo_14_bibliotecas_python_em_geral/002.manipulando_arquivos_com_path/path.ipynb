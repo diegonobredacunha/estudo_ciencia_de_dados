{
 "cells": [
  {
   "cell_type": "code",
   "execution_count": 3,
   "metadata": {},
   "outputs": [],
   "source": [
    "# Crie uma pasta chamada raw, para fazermos uns testes\n",
    "# Para criar um arquivo. Use o parametro 'w'\n",
    "arquivo = open('/home/diego/workspace/python/estudo_ciencia_de_dados/raw/teste.txt', 'w')"
   ]
  },
  {
   "cell_type": "code",
   "execution_count": 4,
   "metadata": {},
   "outputs": [],
   "source": [
    "# Tente deletar o arquivo\n",
    "# O python não permitirá que o arquivo seja excluído, para isso use o close()\n",
    "arquivo.close()"
   ]
  },
  {
   "cell_type": "code",
   "execution_count": 10,
   "metadata": {},
   "outputs": [],
   "source": [
    "arquivo = open('/home/diego/workspace/python/estudo_ciencia_de_dados/raw/teste.txt', 'w')"
   ]
  },
  {
   "cell_type": "code",
   "execution_count": 11,
   "metadata": {},
   "outputs": [
    {
     "data": {
      "text/plain": [
       "74"
      ]
     },
     "execution_count": 11,
     "metadata": {},
     "output_type": "execute_result"
    }
   ],
   "source": [
    "# Escrava algo\n",
    "arquivo.write('Escreva qualquer coisa, para deixar registrado que foi feito pelo jupyter.')"
   ]
  },
  {
   "cell_type": "code",
   "execution_count": 12,
   "metadata": {},
   "outputs": [],
   "source": [
    "arquivo.close()"
   ]
  },
  {
   "cell_type": "code",
   "execution_count": 13,
   "metadata": {},
   "outputs": [],
   "source": [
    "# Abrindo o arquivo no modo leitura\n",
    "arquivo = open('/home/diego/workspace/python/estudo_ciencia_de_dados/raw/teste.txt', 'r')"
   ]
  },
  {
   "cell_type": "code",
   "execution_count": 15,
   "metadata": {},
   "outputs": [],
   "source": [
    "conteudo = arquivo.read()"
   ]
  },
  {
   "cell_type": "code",
   "execution_count": 16,
   "metadata": {},
   "outputs": [],
   "source": [
    "arquivo.close()"
   ]
  },
  {
   "cell_type": "code",
   "execution_count": 17,
   "metadata": {},
   "outputs": [
    {
     "data": {
      "text/plain": [
       "'Escreva qualquer coisa, para deixar registrado que foi feito pelo jupyter.'"
      ]
     },
     "execution_count": 17,
     "metadata": {},
     "output_type": "execute_result"
    }
   ],
   "source": [
    "conteudo"
   ]
  },
  {
   "cell_type": "code",
   "execution_count": 22,
   "metadata": {},
   "outputs": [],
   "source": [
    "# Para adicionar linhas após o arquivo ter sido criado, basta passar o 'a' como parametro\n",
    "arquivo = open('/home/diego/workspace/python/estudo_ciencia_de_dados/raw/teste.txt', 'a')\n",
    "arquivo.write('\\nPython é uma linguagem show de bola.\\nEscrevendo com append.')\n",
    "arquivo.close()"
   ]
  },
  {
   "cell_type": "code",
   "execution_count": 23,
   "metadata": {},
   "outputs": [
    {
     "data": {
      "text/plain": [
       "'Escreva qualquer coisa, para deixar registrado que foi feito pelo jupyter.\\n Python é uma linguagem show de bola.\\nPython é uma linguagem show de bola.\\nEscrevendo com append.'"
      ]
     },
     "execution_count": 23,
     "metadata": {},
     "output_type": "execute_result"
    }
   ],
   "source": [
    "arquivo = open('/home/diego/workspace/python/estudo_ciencia_de_dados/raw/teste.txt', 'r')\n",
    "conteudo = arquivo.read()\n",
    "arquivo.close()\n",
    "conteudo"
   ]
  },
  {
   "cell_type": "markdown",
   "metadata": {},
   "source": [
    "# O que aprendemos:\n",
    "    1- Abrir o arquivo\n",
    "    2- Ler ou escrever o arquivo\n",
    "    3- Fechar o arquivo\n",
    "Devemos indicar o caminho do arquivo, caso contrário, ele será criado em nosso diretório de trabalho"
   ]
  },
  {
   "cell_type": "code",
   "execution_count": 24,
   "metadata": {},
   "outputs": [],
   "source": [
    "# Podemos simplificar\n",
    "# with permite criar, escrever e fechar o arquivo ao mesmo tempo\n",
    "with open('/home/diego/workspace/python/estudo_ciencia_de_dados/raw/teste.txt', 'w') as arq:\n",
    "    arq.write('Utilizando o with')"
   ]
  },
  {
   "cell_type": "code",
   "execution_count": null,
   "metadata": {},
   "outputs": [],
   "source": []
  }
 ],
 "metadata": {
  "kernelspec": {
   "display_name": "Python 3",
   "language": "python",
   "name": "python3"
  },
  "language_info": {
   "codemirror_mode": {
    "name": "ipython",
    "version": 3
   },
   "file_extension": ".py",
   "mimetype": "text/x-python",
   "name": "python",
   "nbconvert_exporter": "python",
   "pygments_lexer": "ipython3",
   "version": "3.6.9"
  }
 },
 "nbformat": 4,
 "nbformat_minor": 2
}
