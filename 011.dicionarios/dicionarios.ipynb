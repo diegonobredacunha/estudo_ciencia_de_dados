{
 "cells": [
  {
   "cell_type": "markdown",
   "metadata": {},
   "source": [
    "DICIONARIOS"
   ]
  },
  {
   "cell_type": "markdown",
   "metadata": {},
   "source": [
    "    A DIFERENÇA MAIS MARCANTE ENTRE LISTAS E DICIONÁRIOS É QUE MESMO, AMBAS, SENDO UMA COLEÇÃO DE OBJETOS MUTÁVEIS, AS LISTAS ORGANIZAM-SE POR INDICES POSICIONAIS, ENQUANTO OS DICIONÁRIOS ORGANIZAM-SE POR PADRÃO CHAVE VALOR."
   ]
  },
  {
   "cell_type": "code",
   "execution_count": null,
   "metadata": {},
   "outputs": [],
   "source": [
    "'''\n",
    "TUPLAS SÃO CRIADAS COM PARENTESIS, LISTAS SÃO CRIADAS \n",
    "COM COLCHETES, DICIOANÁRIOS SÃO CRIADOS COM CHAVES\n",
    "'''\n",
    "\n",
    "grunt = {\n",
    "    'categoria': 'guerreiro', \n",
    "    'forca': 110, \n",
    "    'experiencia': 50,\n",
    "    'vida': 100,\n",
    "    'cura': 110\n",
    "}\n",
    "\n",
    "shallur = {\n",
    "    'categoria': 'mago', \n",
    "    'forca': 50, \n",
    "    'experiencia': 120,\n",
    "    'vida': 60,\n",
    "    'cura': 100\n",
    "}\n",
    "\n",
    "eldor = {\n",
    "    'categoria': 'elfo', \n",
    "    'forca': 70, \n",
    "    'experiencia': 80,\n",
    "    'vida': 120,\n",
    "    'cura': 110\n",
    "}"
   ]
  },
  {
   "cell_type": "code",
   "execution_count": null,
   "metadata": {},
   "outputs": [],
   "source": [
    "print(grunt)\n",
    "print(shallur)\n",
    "print(eldor)"
   ]
  },
  {
   "cell_type": "code",
   "execution_count": null,
   "metadata": {},
   "outputs": [],
   "source": [
    "# INDEXANDO POR CHAVES\n",
    "print('Força do Grunt', grunt['forca'])\n",
    "print('Experiência do Eldor', eldor['experiencia'])"
   ]
  },
  {
   "cell_type": "code",
   "execution_count": null,
   "metadata": {},
   "outputs": [],
   "source": [
    "# CRIANDO UM DICIONÁRIO VAZIO\n",
    "kallipha = {}"
   ]
  },
  {
   "cell_type": "code",
   "execution_count": null,
   "metadata": {},
   "outputs": [],
   "source": [
    "# ADICIONANDO ELEMENTOS AO DICIONÁRIO\n",
    "\n",
    "kallipha['categoria'] = 'elfo'\n",
    "kallipha['forca'] = 75\n",
    "kallipha['experiencia'] = 73\n",
    "kallipha['vida'] = 124\n",
    "kallipha['cura'] = 100"
   ]
  },
  {
   "cell_type": "code",
   "execution_count": null,
   "metadata": {},
   "outputs": [],
   "source": [
    "print('Grunt', grunt)\n",
    "print('Shallur', shallur)\n",
    "print('Eldor', eldor)\n",
    "print('Kallipha', kallipha)"
   ]
  },
  {
   "cell_type": "code",
   "execution_count": null,
   "metadata": {},
   "outputs": [],
   "source": [
    "# DICIONÁRIOS ANINHADOS\n",
    "# ADICIONANDO UM ELEMENTO LISTA AO DICIONÁRIO\n",
    "grunt['armas'] = ['escudo', 'espada']"
   ]
  },
  {
   "cell_type": "code",
   "execution_count": null,
   "metadata": {},
   "outputs": [],
   "source": [
    "print(grunt)"
   ]
  },
  {
   "cell_type": "code",
   "execution_count": null,
   "metadata": {},
   "outputs": [],
   "source": [
    "print(grunt['armas'][0])"
   ]
  },
  {
   "cell_type": "code",
   "execution_count": null,
   "metadata": {},
   "outputs": [],
   "source": [
    "# ADICIONANDO UM ELEMENTO NA LISTA DO DICIONÁRIO\n",
    "grunt['armas'].append('elmo')"
   ]
  },
  {
   "cell_type": "code",
   "execution_count": null,
   "metadata": {},
   "outputs": [],
   "source": [
    "print(grunt)"
   ]
  },
  {
   "cell_type": "code",
   "execution_count": null,
   "metadata": {},
   "outputs": [],
   "source": [
    "type(grunt)"
   ]
  },
  {
   "cell_type": "markdown",
   "metadata": {},
   "source": [
    "MÉTODOS"
   ]
  },
  {
   "cell_type": "code",
   "execution_count": null,
   "metadata": {},
   "outputs": [],
   "source": [
    "# A HIERARQUIA DE IMPRESSÃO É ITEM -> KEY -> VALUES"
   ]
  },
  {
   "cell_type": "code",
   "execution_count": null,
   "metadata": {},
   "outputs": [],
   "source": [
    "# IMPRIME O ITEM, OU SEJA, O PAR CHAVE VALOR\n",
    "print(list(grunt.items()))"
   ]
  },
  {
   "cell_type": "code",
   "execution_count": null,
   "metadata": {},
   "outputs": [],
   "source": [
    "kallipha.items()"
   ]
  },
  {
   "cell_type": "code",
   "execution_count": null,
   "metadata": {},
   "outputs": [],
   "source": [
    "# IMPRIME SOMENTE A CHAVE\n",
    "print(grunt.keys())"
   ]
  },
  {
   "cell_type": "code",
   "execution_count": null,
   "metadata": {},
   "outputs": [],
   "source": [
    "# IMPRIME SOMENTE OS VALORES\n",
    "print(list(grunt.values()))"
   ]
  },
  {
   "cell_type": "code",
   "execution_count": null,
   "metadata": {},
   "outputs": [],
   "source": [
    "# A UTILIZAÇÃO DO FOR PARA IMPRESSÃO TRAZ SOMENTE AS CHAVES\n",
    "for var in grunt:\n",
    "    print('Chave: ', var)"
   ]
  },
  {
   "cell_type": "code",
   "execution_count": null,
   "metadata": {},
   "outputs": [],
   "source": [
    "# ATRIBUIÇÃO MULTIPLA CHAVE / VALOR\n",
    "for (chave, valor) in grunt.items():\n",
    "    print('Chave: ', chave, ' mapeado para: ', valor)"
   ]
  },
  {
   "cell_type": "code",
   "execution_count": null,
   "metadata": {},
   "outputs": [],
   "source": [
    "# IMPRESSÃO ATRAVÉS DO ÍNDICE VAR\n",
    "for var in grunt:\n",
    "    print('Chave: ', var, '- mapeado para', grunt[var])"
   ]
  },
  {
   "cell_type": "code",
   "execution_count": null,
   "metadata": {},
   "outputs": [],
   "source": [
    "# UTILIZANDO O OPERADOR IN\n",
    "inventario = {\n",
    "    'maca': 430, \n",
    "    'bananas': 312, \n",
    "    'laranja': 525, \n",
    "    'pera': 217\n",
    "}\n",
    "\n",
    "print('maca' in inventario)\n",
    "print('cereja' in inventario)\n",
    "\n",
    "if 'bananas' in inventario:\n",
    "    print(inventario['bananas'])\n",
    "else:\n",
    "    print('não temos bananas')"
   ]
  },
  {
   "cell_type": "code",
   "execution_count": null,
   "metadata": {},
   "outputs": [],
   "source": [
    "# MÉTODO GET\n",
    "# O GET JÁ POSSUI TRATAMENTO DE ERROS, CASO NÃO HAJA ELE NÃO RETORNA UM ERRO\n",
    "print(inventario.get('apples'))"
   ]
  },
  {
   "cell_type": "code",
   "execution_count": null,
   "metadata": {},
   "outputs": [],
   "source": [
    "# O MÉTODO AINDA NOS PERMITE UM RETORNO PADRÃO\n",
    "print(inventario.get('melancia', 'não possuimos melancia'))"
   ]
  },
  {
   "cell_type": "code",
   "execution_count": null,
   "metadata": {},
   "outputs": [],
   "source": [
    "# O MÉTODO COPY PERMITE COPIAR TODO UM DICIONÁRIO PARA OUTRA VARIÁVEL, SEM DIFERENCIAR O MESMO OBJETO\n",
    "mercado = inventario"
   ]
  },
  {
   "cell_type": "code",
   "execution_count": null,
   "metadata": {},
   "outputs": [],
   "source": [
    "# ESTAMOS APENAS INVENTÁRIO\n",
    "inventario['melancia'] = 10"
   ]
  },
  {
   "cell_type": "code",
   "execution_count": null,
   "metadata": {},
   "outputs": [],
   "source": [
    "# AO IMPRIMIR MERCADO, VEMOS QUE A ALTERAÇÃO TAMBÉM FOI FEITA, POIS AS VARIÁVEIS REFEREM-SE AO MESMO OBJETO\n",
    "print(mercado)"
   ]
  },
  {
   "cell_type": "code",
   "execution_count": null,
   "metadata": {},
   "outputs": [],
   "source": [
    "# UTILIZANDO O COPY\n",
    "quitanda = inventario.copy()"
   ]
  },
  {
   "cell_type": "code",
   "execution_count": null,
   "metadata": {},
   "outputs": [],
   "source": [
    "del inventario['melancia']"
   ]
  },
  {
   "cell_type": "code",
   "execution_count": null,
   "metadata": {},
   "outputs": [],
   "source": [
    "print(inventario)\n",
    "print(mercado)\n",
    "print(quitanda)"
   ]
  },
  {
   "cell_type": "code",
   "execution_count": null,
   "metadata": {},
   "outputs": [],
   "source": [
    "# ALTERANDO O NOME DE CHAVES DO DICIONÁRIO\n",
    "dicionario = {'UM': 1, 'DOIS': 2, 'TRES': 3, 'FOUR': 4}"
   ]
  },
  {
   "cell_type": "code",
   "execution_count": null,
   "metadata": {},
   "outputs": [],
   "source": [
    "print(dicionario)"
   ]
  },
  {
   "cell_type": "code",
   "execution_count": null,
   "metadata": {},
   "outputs": [],
   "source": [
    "# AQUI UTILIZA O POP, QUE RETIRA O ELEMENTO E RETORNA ELE PRÓPRIO\n",
    "dicionario['QUATRO'] = dicionario.pop('FOUR')"
   ]
  },
  {
   "cell_type": "code",
   "execution_count": null,
   "metadata": {},
   "outputs": [],
   "source": [
    "dicionario"
   ]
  },
  {
   "cell_type": "code",
   "execution_count": null,
   "metadata": {},
   "outputs": [],
   "source": [
    "type(dicionario)"
   ]
  },
  {
   "cell_type": "code",
   "execution_count": null,
   "metadata": {},
   "outputs": [],
   "source": []
  }
 ],
 "metadata": {
  "kernelspec": {
   "display_name": "Python 3",
   "language": "python",
   "name": "python3"
  },
  "language_info": {
   "codemirror_mode": {
    "name": "ipython",
    "version": 3
   },
   "file_extension": ".py",
   "mimetype": "text/x-python",
   "name": "python",
   "nbconvert_exporter": "python",
   "pygments_lexer": "ipython3",
   "version": "3.6.9"
  }
 },
 "nbformat": 4,
 "nbformat_minor": 2
}
