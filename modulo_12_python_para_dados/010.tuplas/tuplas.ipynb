{
 "cells": [
  {
   "cell_type": "markdown",
   "metadata": {},
   "source": [
    "TUPLAS"
   ]
  },
  {
   "cell_type": "code",
   "execution_count": 1,
   "metadata": {},
   "outputs": [],
   "source": [
    "# A TUPLA É IMUTÁVEL\n",
    "rio_de_janeiro = (2410,1227)\n",
    "salvador = (5816,3039)\n",
    "recife = (314,5252)"
   ]
  },
  {
   "cell_type": "code",
   "execution_count": 2,
   "metadata": {},
   "outputs": [
    {
     "name": "stdout",
     "output_type": "stream",
     "text": [
      "(2410, 1227)\n",
      "(5816, 3039)\n",
      "(314, 5252)\n"
     ]
    }
   ],
   "source": [
    "print(rio_de_janeiro)\n",
    "print(salvador)\n",
    "print(recife)"
   ]
  },
  {
   "cell_type": "code",
   "execution_count": 3,
   "metadata": {},
   "outputs": [
    {
     "name": "stdout",
     "output_type": "stream",
     "text": [
      "<class 'tuple'>\n"
     ]
    }
   ],
   "source": [
    "# VERIFICANDO O TIPO\n",
    "print(type(salvador))"
   ]
  },
  {
   "cell_type": "code",
   "execution_count": 4,
   "metadata": {},
   "outputs": [
    {
     "name": "stdout",
     "output_type": "stream",
     "text": [
      "1227\n"
     ]
    }
   ],
   "source": [
    "# ELEMENTO DE UMA TUPLA\n",
    "print(rio_de_janeiro[1])"
   ]
  },
  {
   "cell_type": "code",
   "execution_count": 5,
   "metadata": {},
   "outputs": [
    {
     "name": "stdout",
     "output_type": "stream",
     "text": [
      "As dimensões são 52 x 40 x 100\n",
      "As dimensões são 52 x 40 x 100\n"
     ]
    }
   ],
   "source": [
    "'''\n",
    "    DESCOMPACTANDO TUPLAS. OBSERVE QUE AS TUPLAS ESTÃO SEM PARENTESES,\n",
    "ISSO É FREQUENTEMENTE UTILIZADO, MAS NÃO RECOMENDADO. O FORMAT É UM \n",
    "MÉTODO DO TIPO STRING\n",
    "'''\n",
    "dimensoes = 52,40,100\n",
    "largura, altura, profundidade = dimensoes\n",
    "print('As dimensões são {} x {} x {}'.format(largura, altura, profundidade))\n",
    "print('As dimensões são', largura, 'x', altura, 'x', profundidade)"
   ]
  },
  {
   "cell_type": "code",
   "execution_count": 6,
   "metadata": {},
   "outputs": [
    {
     "name": "stdout",
     "output_type": "stream",
     "text": [
      "A latitude de Salvador é 5816\n"
     ]
    }
   ],
   "source": [
    "print('A latitude de Salvador é {}'.format(salvador[0]))"
   ]
  },
  {
   "cell_type": "code",
   "execution_count": 7,
   "metadata": {},
   "outputs": [
    {
     "ename": "TypeError",
     "evalue": "'tuple' object does not support item assignment",
     "output_type": "error",
     "traceback": [
      "\u001b[0;31m---------------------------------------------------------------------------\u001b[0m",
      "\u001b[0;31mTypeError\u001b[0m                                 Traceback (most recent call last)",
      "\u001b[0;32m<ipython-input-7-86b84bbbfc9c>\u001b[0m in \u001b[0;36m<module>\u001b[0;34m()\u001b[0m\n\u001b[1;32m      1\u001b[0m \u001b[0;31m# IMUTABILIDADE DE UMA TUPLA\u001b[0m\u001b[0;34m\u001b[0m\u001b[0;34m\u001b[0m\u001b[0;34m\u001b[0m\u001b[0m\n\u001b[0;32m----> 2\u001b[0;31m \u001b[0msalvador\u001b[0m\u001b[0;34m[\u001b[0m\u001b[0;36m0\u001b[0m\u001b[0;34m]\u001b[0m \u001b[0;34m=\u001b[0m \u001b[0;36m2222\u001b[0m\u001b[0;34m\u001b[0m\u001b[0;34m\u001b[0m\u001b[0m\n\u001b[0m",
      "\u001b[0;31mTypeError\u001b[0m: 'tuple' object does not support item assignment"
     ]
    }
   ],
   "source": [
    "# IMUTABILIDADE DE UMA TUPLA\n",
    "salvador[0] = 2222"
   ]
  },
  {
   "cell_type": "code",
   "execution_count": 8,
   "metadata": {},
   "outputs": [],
   "source": [
    "del salvador"
   ]
  },
  {
   "cell_type": "code",
   "execution_count": 9,
   "metadata": {},
   "outputs": [
    {
     "ename": "NameError",
     "evalue": "name 'salvador' is not defined",
     "output_type": "error",
     "traceback": [
      "\u001b[0;31m---------------------------------------------------------------------------\u001b[0m",
      "\u001b[0;31mNameError\u001b[0m                                 Traceback (most recent call last)",
      "\u001b[0;32m<ipython-input-9-140ba242e13c>\u001b[0m in \u001b[0;36m<module>\u001b[0;34m()\u001b[0m\n\u001b[0;32m----> 1\u001b[0;31m \u001b[0msalvador\u001b[0m\u001b[0;34m[\u001b[0m\u001b[0;36m0\u001b[0m\u001b[0;34m]\u001b[0m\u001b[0;34m\u001b[0m\u001b[0;34m\u001b[0m\u001b[0m\n\u001b[0m",
      "\u001b[0;31mNameError\u001b[0m: name 'salvador' is not defined"
     ]
    }
   ],
   "source": [
    "salvador[0]"
   ]
  },
  {
   "cell_type": "markdown",
   "metadata": {},
   "source": [
    "ARGUMENTOS PADÃO"
   ]
  },
  {
   "cell_type": "code",
   "execution_count": 14,
   "metadata": {},
   "outputs": [],
   "source": [
    "def box(largura, altura, caracter):\n",
    "    print(caracter * largura) # IMPRIMIRÁ O CARACTER MULTIPLICADO PELA LARGURA\n",
    "    \n",
    "    for i in range(altura - 2):\n",
    "        print(caracter + \" \" * (largura - 2) + caracter)\n",
    "    \n",
    "    print(caracter * largura)"
   ]
  },
  {
   "cell_type": "code",
   "execution_count": 15,
   "metadata": {},
   "outputs": [
    {
     "name": "stdout",
     "output_type": "stream",
     "text": [
      "**********\n",
      "*        *\n",
      "*        *\n",
      "*        *\n",
      "*        *\n",
      "*        *\n",
      "*        *\n",
      "**********\n"
     ]
    }
   ],
   "source": [
    "box(10,8,'*')"
   ]
  },
  {
   "cell_type": "code",
   "execution_count": 16,
   "metadata": {},
   "outputs": [],
   "source": [
    "def box(largura, altura, caracter = '#'):\n",
    "    print(caracter * largura) # IMPRIMIRÁ O CARACTER MULTIPLICADO PELA LARGURA\n",
    "    \n",
    "    for i in range(altura - 2):\n",
    "        print(caracter + \" \" * (largura - 2) + caracter)\n",
    "    \n",
    "    print(caracter * largura)"
   ]
  },
  {
   "cell_type": "code",
   "execution_count": 17,
   "metadata": {},
   "outputs": [
    {
     "name": "stdout",
     "output_type": "stream",
     "text": [
      "##################################################\n",
      "#                                                #\n",
      "#                                                #\n",
      "#                                                #\n",
      "#                                                #\n",
      "#                                                #\n",
      "#                                                #\n",
      "#                                                #\n",
      "#                                                #\n",
      "##################################################\n"
     ]
    }
   ],
   "source": [
    "box(50,10)"
   ]
  },
  {
   "cell_type": "code",
   "execution_count": null,
   "metadata": {},
   "outputs": [],
   "source": []
  }
 ],
 "metadata": {
  "kernelspec": {
   "display_name": "Python 3",
   "language": "python",
   "name": "python3"
  },
  "language_info": {
   "codemirror_mode": {
    "name": "ipython",
    "version": 3
   },
   "file_extension": ".py",
   "mimetype": "text/x-python",
   "name": "python",
   "nbconvert_exporter": "python",
   "pygments_lexer": "ipython3",
   "version": "3.6.9"
  }
 },
 "nbformat": 4,
 "nbformat_minor": 2
}
