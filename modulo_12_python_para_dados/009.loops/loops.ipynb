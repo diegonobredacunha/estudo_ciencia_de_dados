{
 "cells": [
  {
   "cell_type": "markdown",
   "metadata": {},
   "source": [
    "WHILE"
   ]
  },
  {
   "cell_type": "code",
   "execution_count": null,
   "metadata": {},
   "outputs": [],
   "source": [
    "'''\n",
    "    O LOOP WHILE REQUER DOI CUIDADOS\n",
    "1 - O LOOP SOMENTE É EXECUTADO SE A CONDIÇÃO FOR TRUE\n",
    "2 - DENTRO DO LOOP A CONDIÇÃO OBRIGATÓRIAMENTE TEM QUE PASSAR O FALSE OU UM BREAK, PARA QUE O LOOP PARE\n",
    "'''"
   ]
  },
  {
   "cell_type": "code",
   "execution_count": null,
   "metadata": {},
   "outputs": [],
   "source": [
    "contador = 0\n",
    "\n",
    "while contador < 15:\n",
    "    print(contador)\n",
    "    contador += 1"
   ]
  },
  {
   "cell_type": "code",
   "execution_count": null,
   "metadata": {},
   "outputs": [],
   "source": [
    "'''\n",
    "    A EXEMPLO DO IF / ELSE, QUANDO O ELSE É EXECUTO APÓS O RETURN FALSE DO IF, \n",
    "PODEMOS TAMBÉM UTILIZAR ELSE COM WHILE\n",
    "    O LOOP EXECUTARÁ ENQUANTO A CONDIÇÃO DO WHILE FOR VERDADEIRO E DEPOIS ENTRARÁ NO ELSE\n",
    "'''\n",
    "\n",
    "x = 0\n",
    "\n",
    "while x < 10:\n",
    "    print(x)\n",
    "    x += 1\n",
    "else:\n",
    "    print('loop concluído')"
   ]
  },
  {
   "cell_type": "markdown",
   "metadata": {},
   "source": [
    "LOOP FOR"
   ]
  },
  {
   "cell_type": "code",
   "execution_count": null,
   "metadata": {},
   "outputs": [],
   "source": [
    "'''\n",
    "    A PRINCIPAL DIFERENÇA ENTRE O LOOP FOR E DO WHILE É QUE O FOR VAI SER \n",
    "EXECUTADO PELO MENOS UMA VEZ, ENQUANTO O WHILE SERÁ EXECUTADO SOMENTE SE \n",
    "A EXPRESSÃO FOR TRUE\n",
    "'''"
   ]
  },
  {
   "cell_type": "code",
   "execution_count": 7,
   "metadata": {},
   "outputs": [],
   "source": [
    "lista = ['Data Science', 'Estatística', 'Big Data', 'Machine Learning']"
   ]
  },
  {
   "cell_type": "code",
   "execution_count": 9,
   "metadata": {},
   "outputs": [
    {
     "name": "stdout",
     "output_type": "stream",
     "text": [
      "Data Science\n",
      "Estatística\n",
      "Big Data\n",
      "Machine Learning\n"
     ]
    }
   ],
   "source": [
    "for variavel in lista:\n",
    "    print(variavel)"
   ]
  },
  {
   "cell_type": "code",
   "execution_count": 10,
   "metadata": {},
   "outputs": [],
   "source": [
    "# PODEMOS TAMBÉM PERCORRER UM STRING\n",
    "palavra = 'Data Science'"
   ]
  },
  {
   "cell_type": "code",
   "execution_count": 11,
   "metadata": {},
   "outputs": [
    {
     "name": "stdout",
     "output_type": "stream",
     "text": [
      "D\n",
      "a\n",
      "t\n",
      "a\n",
      " \n",
      "S\n",
      "c\n",
      "i\n",
      "e\n",
      "n\n",
      "c\n",
      "e\n"
     ]
    }
   ],
   "source": [
    "for i in palavra:\n",
    "    print(i)"
   ]
  },
  {
   "cell_type": "code",
   "execution_count": 12,
   "metadata": {},
   "outputs": [],
   "source": [
    "# ALGO EXTREMAMENTE ÚTIL SÃO AS FUNÇÕES BUILT IN DE LISTAS\n",
    "lista = []"
   ]
  },
  {
   "cell_type": "code",
   "execution_count": 13,
   "metadata": {},
   "outputs": [],
   "source": [
    "for i in 'Data Science':\n",
    "    lista.append(i)"
   ]
  },
  {
   "cell_type": "code",
   "execution_count": 14,
   "metadata": {},
   "outputs": [
    {
     "name": "stdout",
     "output_type": "stream",
     "text": [
      "['D', 'a', 't', 'a', ' ', 'S', 'c', 'i', 'e', 'n', 'c', 'e']\n"
     ]
    }
   ],
   "source": [
    "print(lista)"
   ]
  },
  {
   "cell_type": "code",
   "execution_count": 15,
   "metadata": {},
   "outputs": [],
   "source": [
    "# NÚMEROS PARES\n",
    "lista = [1,2,3,4,5,6,7,8,9,10]"
   ]
  },
  {
   "cell_type": "code",
   "execution_count": 16,
   "metadata": {},
   "outputs": [
    {
     "name": "stdout",
     "output_type": "stream",
     "text": [
      "2\n",
      "4\n",
      "6\n",
      "8\n",
      "10\n"
     ]
    }
   ],
   "source": [
    "for i in lista:\n",
    "    if i % 2 == 0:\n",
    "        print(i)"
   ]
  },
  {
   "cell_type": "code",
   "execution_count": 17,
   "metadata": {},
   "outputs": [],
   "source": [
    "# COPIANDO OS ELEMENTOS DE UMA LISTA PRA OUTRA\n",
    "rio_de_janeiro = ['Flamengo', 'Fluminense', 'Botafogo', 'Vasco']\n",
    "sao_paulo = ['Santos', 'São Paulo', 'Palmeiras', 'Corinthians']"
   ]
  },
  {
   "cell_type": "code",
   "execution_count": 18,
   "metadata": {},
   "outputs": [],
   "source": [
    "for time in rio_de_janeiro:\n",
    "    sao_paulo.append(time)"
   ]
  },
  {
   "cell_type": "code",
   "execution_count": 19,
   "metadata": {},
   "outputs": [
    {
     "data": {
      "text/plain": [
       "['Santos',\n",
       " 'São Paulo',\n",
       " 'Palmeiras',\n",
       " 'Corinthians',\n",
       " 'Flamengo',\n",
       " 'Fluminense',\n",
       " 'Botafogo',\n",
       " 'Vasco']"
      ]
     },
     "execution_count": 19,
     "metadata": {},
     "output_type": "execute_result"
    }
   ],
   "source": [
    "sao_paulo"
   ]
  },
  {
   "cell_type": "markdown",
   "metadata": {},
   "source": [
    "RANGE"
   ]
  },
  {
   "cell_type": "code",
   "execution_count": 20,
   "metadata": {},
   "outputs": [
    {
     "name": "stdout",
     "output_type": "stream",
     "text": [
      "1\n",
      "2\n",
      "3\n",
      "4\n",
      "5\n",
      "6\n",
      "7\n",
      "8\n",
      "9\n"
     ]
    }
   ],
   "source": [
    "'''\n",
    "    PODEMOS UTILIZAR A FUNÇÃO RANGE PARA SIMPLIFICAR UM \n",
    "GRANDE NÚMERO DE ITERAÇÕES. LEMBRE-SE QUE EM UM RANGE, A\n",
    "ÚLTIMA POSIÇÃO É EXCLUSIVA\n",
    "'''\n",
    "for i in range(1,10):\n",
    "    print(i)"
   ]
  },
  {
   "cell_type": "code",
   "execution_count": 21,
   "metadata": {},
   "outputs": [
    {
     "name": "stdout",
     "output_type": "stream",
     "text": [
      "1\n",
      "10\n"
     ]
    }
   ],
   "source": [
    "# NÃO CONFUNDA\n",
    "for i in (1,10):\n",
    "    print(i)"
   ]
  },
  {
   "cell_type": "code",
   "execution_count": 22,
   "metadata": {},
   "outputs": [
    {
     "name": "stdout",
     "output_type": "stream",
     "text": [
      "0\n",
      "2\n",
      "4\n",
      "6\n",
      "8\n",
      "10\n",
      "12\n",
      "14\n",
      "16\n",
      "18\n",
      "20\n",
      "22\n",
      "24\n",
      "26\n",
      "28\n"
     ]
    }
   ],
   "source": [
    "# O INTERESSANTE DO RANGE É A POSSIBILIDADE DE DEFINIRMOS O PASSO\n",
    "for i in range(0,30,2):\n",
    "    print(i)"
   ]
  },
  {
   "cell_type": "code",
   "execution_count": 23,
   "metadata": {},
   "outputs": [
    {
     "name": "stdout",
     "output_type": "stream",
     "text": [
      "1\n",
      "3\n",
      "5\n",
      "7\n",
      "9\n",
      "11\n",
      "13\n",
      "15\n",
      "17\n",
      "19\n",
      "21\n",
      "23\n",
      "25\n",
      "27\n",
      "29\n"
     ]
    }
   ],
   "source": [
    "for i in range(0,30,2):\n",
    "    print(i+1)"
   ]
  },
  {
   "cell_type": "markdown",
   "metadata": {},
   "source": [
    "PASS E BREAK"
   ]
  },
  {
   "cell_type": "code",
   "execution_count": 24,
   "metadata": {},
   "outputs": [
    {
     "name": "stdout",
     "output_type": "stream",
     "text": [
      "A condição continua verdadeiro. I vale: 0\n",
      "A condição continua verdadeiro. I vale: 1\n",
      "A condição continua verdadeiro. I vale: 2\n",
      "A condição continua verdadeiro. I vale: 3\n",
      "A condição continua verdadeiro. I vale: 4\n",
      "A condição continua verdadeiro. I vale: 5\n",
      "A condição continua verdadeiro. I vale: 6\n",
      "A condição continua verdadeiro. I vale: 7\n",
      "A condição continua verdadeiro. I vale: 8\n",
      "A condição continua verdadeiro. I vale: 9\n",
      "A condição continua verdadeiro. I vale: 10\n",
      "A condição continua verdadeiro. I vale: 11\n",
      "A condição continua verdadeiro. I vale: 12\n",
      "A condição continua verdadeiro. I vale: 13\n",
      "A condição continua verdadeiro. I vale: 14\n",
      "A condição continua verdadeiro. I vale: 15\n",
      "A condição continua verdadeiro. I vale: 16\n",
      "A condição continua verdadeiro. I vale: 17\n",
      "A condição continua verdadeiro. I vale: 18\n",
      "A condição continua verdadeiro. I vale: 19\n"
     ]
    }
   ],
   "source": [
    "i = 0\n",
    "while True:\n",
    "    print('A condição continua verdadeiro. I vale: ' + str(i))\n",
    "    i = i+1\n",
    "    \n",
    "    if i < 20:\n",
    "        pass\n",
    "    else:\n",
    "        break"
   ]
  },
  {
   "cell_type": "code",
   "execution_count": 25,
   "metadata": {},
   "outputs": [
    {
     "name": "stdout",
     "output_type": "stream",
     "text": [
      "A condição continua verdadeiro. I vale: 0\n",
      "A condição continua verdadeiro. I vale: 1\n",
      "A condição continua verdadeiro. I vale: 2\n",
      "A condição continua verdadeiro. I vale: 3\n",
      "A condição continua verdadeiro. I vale: 4\n",
      "A condição continua verdadeiro. I vale: 5\n",
      "A condição continua verdadeiro. I vale: 6\n",
      "A condição continua verdadeiro. I vale: 7\n",
      "A condição continua verdadeiro. I vale: 8\n",
      "A condição continua verdadeiro. I vale: 9\n",
      "A condição continua verdadeiro. I vale: 10\n",
      "A condição continua verdadeiro. I vale: 11\n",
      "A condição continua verdadeiro. I vale: 12\n",
      "A condição continua verdadeiro. I vale: 13\n",
      "A condição continua verdadeiro. I vale: 14\n",
      "A condição continua verdadeiro. I vale: 15\n",
      "A condição continua verdadeiro. I vale: 16\n",
      "A condição continua verdadeiro. I vale: 17\n",
      "A condição continua verdadeiro. I vale: 18\n",
      "A condição continua verdadeiro. I vale: 19\n",
      "A condição continua verdadeiro. I vale: 20\n"
     ]
    }
   ],
   "source": [
    "i = 0\n",
    "while True:\n",
    "    print('A condição continua verdadeiro. I vale: ' + str(i))\n",
    "    i = i+1\n",
    "    \n",
    "    if i > 20:\n",
    "        break\n",
    "    else:\n",
    "        pass"
   ]
  },
  {
   "cell_type": "markdown",
   "metadata": {},
   "source": [
    "WHILE E FOR JUNTOS"
   ]
  },
  {
   "cell_type": "code",
   "execution_count": 26,
   "metadata": {},
   "outputs": [
    {
     "name": "stdout",
     "output_type": "stream",
     "text": [
      "Iteração i: 0\n",
      "j 0\n",
      "j 1\n",
      "j 2\n",
      "j 3\n",
      "j 4\n",
      "Iteração i: 1\n",
      "j 0\n",
      "j 1\n",
      "j 2\n",
      "j 3\n",
      "j 4\n",
      "Iteração i: 2\n",
      "j 0\n",
      "j 1\n",
      "j 2\n",
      "j 3\n",
      "j 4\n",
      "Iteração i: 3\n",
      "j 0\n",
      "j 1\n",
      "j 2\n",
      "j 3\n",
      "j 4\n",
      "Iteração i: 4\n",
      "j 0\n",
      "j 1\n",
      "j 2\n",
      "j 3\n",
      "j 4\n",
      "Iteração i: 5\n",
      "j 0\n",
      "j 1\n",
      "j 2\n",
      "j 3\n",
      "j 4\n",
      "Iteração i: 6\n",
      "j 0\n",
      "j 1\n",
      "j 2\n",
      "j 3\n",
      "j 4\n",
      "Iteração i: 7\n",
      "j 0\n",
      "j 1\n",
      "j 2\n",
      "j 3\n",
      "j 4\n",
      "Iteração i: 8\n",
      "j 0\n",
      "j 1\n",
      "j 2\n",
      "j 3\n",
      "j 4\n",
      "Iteração i: 9\n",
      "j 0\n",
      "j 1\n",
      "j 2\n",
      "j 3\n",
      "j 4\n"
     ]
    }
   ],
   "source": [
    "for i in range(0,10):\n",
    "    j = 0\n",
    "    print('Iteração i: ' + str(i))\n",
    "    \n",
    "    while j < 5:\n",
    "        print('j', j)\n",
    "        j = j+1"
   ]
  },
  {
   "cell_type": "code",
   "execution_count": null,
   "metadata": {},
   "outputs": [],
   "source": []
  }
 ],
 "metadata": {
  "kernelspec": {
   "display_name": "Python 3",
   "language": "python",
   "name": "python3"
  },
  "language_info": {
   "codemirror_mode": {
    "name": "ipython",
    "version": 3
   },
   "file_extension": ".py",
   "mimetype": "text/x-python",
   "name": "python",
   "nbconvert_exporter": "python",
   "pygments_lexer": "ipython3",
   "version": "3.6.9"
  }
 },
 "nbformat": 4,
 "nbformat_minor": 2
}
