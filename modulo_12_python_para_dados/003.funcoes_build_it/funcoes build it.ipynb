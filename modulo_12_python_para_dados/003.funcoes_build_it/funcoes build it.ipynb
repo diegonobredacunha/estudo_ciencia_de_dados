{
 "cells": [
  {
   "cell_type": "code",
   "execution_count": 1,
   "metadata": {},
   "outputs": [
    {
     "name": "stdout",
     "output_type": "stream",
     "text": [
      "funções\n"
     ]
    }
   ],
   "source": [
    "'''\n",
    "INDEXAÇÃO - CONVERTE A EXPRESSÃO EM UM VETOR E RETORNA \n",
    "A POSIÇÃO DE UM CARACTER, INDICADO ENTRE OS COLCHETES.\n",
    "'''\n",
    "print(\"funções\")"
   ]
  },
  {
   "cell_type": "code",
   "execution_count": 2,
   "metadata": {},
   "outputs": [
    {
     "name": "stdout",
     "output_type": "stream",
     "text": [
      "U\n"
     ]
    }
   ],
   "source": [
    "frase = \"Uma vez flamengo, sempre flamengo!\"\n",
    "print(frase[0])"
   ]
  },
  {
   "cell_type": "code",
   "execution_count": 3,
   "metadata": {},
   "outputs": [
    {
     "name": "stdout",
     "output_type": "stream",
     "text": [
      "Uma vez flamengo, sempre flamengo!\n"
     ]
    }
   ],
   "source": [
    "'''\n",
    "O ZERO É O NUMERO NO QUAL A FUNÇÃO INICIA O : É O RANGE \n",
    "SE APÓS O RANGE ESTIVER VAZIO, ELE IMPRIME ATÉ A ÚLTIMA \n",
    "POSIÇÃO DO VETOR\n",
    "'''\n",
    "print(frase[0:])"
   ]
  },
  {
   "cell_type": "code",
   "execution_count": 4,
   "metadata": {},
   "outputs": [
    {
     "name": "stdout",
     "output_type": "stream",
     "text": [
      "ez fl\n"
     ]
    }
   ],
   "source": [
    "'''\n",
    "NESSE CASO, O 10, É ATÉ ONDE O VETOR SERÁ LIDO\n",
    "'''\n",
    "print(frase[5:10])"
   ]
  },
  {
   "cell_type": "code",
   "execution_count": 5,
   "metadata": {},
   "outputs": [
    {
     "name": "stdout",
     "output_type": "stream",
     "text": [
      "Uma vez flamengo, sempre flamengo!\n"
     ]
    }
   ],
   "source": [
    "'''\n",
    "NESSE CASO TEMOS 2 RANGER'S, ANTES DO PRIMEIRO É A \n",
    "POSIÇÃO INICIAL, ENTRE OS 2 RANGER'S É A POSIÇÃO FINAL\n",
    "E O ÚLTIMO É O INCREMENTO. NESTE CASO INCREMENTA DE 1 \n",
    "EM 1.\n",
    "'''\n",
    "print(frase[::1])"
   ]
  },
  {
   "cell_type": "code",
   "execution_count": 6,
   "metadata": {},
   "outputs": [
    {
     "name": "stdout",
     "output_type": "stream",
     "text": [
      "Uavzfaeg,smr lmno\n"
     ]
    }
   ],
   "source": [
    "# NESSE CASO DE 2 EM 2\n",
    "print(frase[::2])"
   ]
  },
  {
   "cell_type": "code",
   "execution_count": 7,
   "metadata": {},
   "outputs": [
    {
     "name": "stdout",
     "output_type": "stream",
     "text": [
      "!ognemalf erpmes ,ognemalf zev amU\n"
     ]
    }
   ],
   "source": [
    "# DESSA FORMA ELE INVERTE A STRING\n",
    "print(frase[::-1])"
   ]
  },
  {
   "cell_type": "code",
   "execution_count": 10,
   "metadata": {},
   "outputs": [
    {
     "data": {
      "text/plain": [
       "-1"
      ]
     },
     "execution_count": 10,
     "metadata": {},
     "output_type": "execute_result"
    }
   ],
   "source": [
    "'''\n",
    "FIND - LOCALIZA A PRIMEIRA OCORRENCIA DE UMA STRING \n",
    "DENTRO DE UMA EXPRESSÃO NÃO INCLUSA A ÚLTIMA POSIÇÃO.\n",
    "CASO RETORNE -1 É POR QUE NÃO FOI ENCONTRADO OCORRENCIAS.\n",
    "'''\n",
    "frase.find('acesso')"
   ]
  },
  {
   "cell_type": "code",
   "execution_count": 13,
   "metadata": {},
   "outputs": [
    {
     "data": {
      "text/plain": [
       "8"
      ]
     },
     "execution_count": 13,
     "metadata": {},
     "output_type": "execute_result"
    }
   ],
   "source": [
    "frase.find('flamengo')"
   ]
  },
  {
   "cell_type": "code",
   "execution_count": 14,
   "metadata": {},
   "outputs": [
    {
     "data": {
      "text/plain": [
       "10"
      ]
     },
     "execution_count": 14,
     "metadata": {},
     "output_type": "execute_result"
    }
   ],
   "source": [
    "frase.find('flamengo') + 2"
   ]
  },
  {
   "cell_type": "code",
   "execution_count": 16,
   "metadata": {},
   "outputs": [
    {
     "data": {
      "text/plain": [
       "8"
      ]
     },
     "execution_count": 16,
     "metadata": {},
     "output_type": "execute_result"
    }
   ],
   "source": [
    "'''\n",
    "ENCONTRA APÓS A PRIMEIRA OCORRENCIA. BASTA ADICOINAR UM\n",
    "SEGUNDO PARÂMETRO NA FUNÇÃO, QUE INDICA O INICIO DA BUSCA\n",
    "'''\n",
    "hino = \"Uma vez Flamengo, sempre Flamengo!\"\n",
    "hino.find('Flamengo')"
   ]
  },
  {
   "cell_type": "code",
   "execution_count": 17,
   "metadata": {},
   "outputs": [
    {
     "data": {
      "text/plain": [
       "25"
      ]
     },
     "execution_count": 17,
     "metadata": {},
     "output_type": "execute_result"
    }
   ],
   "source": [
    "hino.find('Flamengo',9)"
   ]
  },
  {
   "cell_type": "code",
   "execution_count": 18,
   "metadata": {},
   "outputs": [
    {
     "data": {
      "text/plain": [
       "'Flamengo!'"
      ]
     },
     "execution_count": 18,
     "metadata": {},
     "output_type": "execute_result"
    }
   ],
   "source": [
    "hino[25:]"
   ]
  },
  {
   "cell_type": "code",
   "execution_count": null,
   "metadata": {},
   "outputs": [],
   "source": [
    "# ALGUMAS OUTRAS FUNÇÕES"
   ]
  },
  {
   "cell_type": "code",
   "execution_count": 19,
   "metadata": {},
   "outputs": [
    {
     "data": {
      "text/plain": [
       "'UMA VEZ FLAMENGO, SEMPRE FLAMENGO!'"
      ]
     },
     "execution_count": 19,
     "metadata": {},
     "output_type": "execute_result"
    }
   ],
   "source": [
    "hino.upper()"
   ]
  },
  {
   "cell_type": "code",
   "execution_count": 20,
   "metadata": {},
   "outputs": [
    {
     "data": {
      "text/plain": [
       "'uma vez flamengo, sempre flamengo!'"
      ]
     },
     "execution_count": 20,
     "metadata": {},
     "output_type": "execute_result"
    }
   ],
   "source": [
    "hino.lower()"
   ]
  },
  {
   "cell_type": "code",
   "execution_count": 21,
   "metadata": {},
   "outputs": [
    {
     "data": {
      "text/plain": [
       "['Uma', 'vez', 'Flamengo,', 'sempre', 'Flamengo!']"
      ]
     },
     "execution_count": 21,
     "metadata": {},
     "output_type": "execute_result"
    }
   ],
   "source": [
    "hino.split()"
   ]
  },
  {
   "cell_type": "code",
   "execution_count": 24,
   "metadata": {},
   "outputs": [
    {
     "data": {
      "text/plain": [
       "['Uma vez ', ', sempre ', '!']"
      ]
     },
     "execution_count": 24,
     "metadata": {},
     "output_type": "execute_result"
    }
   ],
   "source": [
    "hino.split('Flamengo')"
   ]
  },
  {
   "cell_type": "code",
   "execution_count": null,
   "metadata": {},
   "outputs": [],
   "source": [
    "# PARA SABER SE O VETOR TERMINA COM A STRING:\n",
    "hino.endswith('!')"
   ]
  },
  {
   "cell_type": "code",
   "execution_count": 23,
   "metadata": {},
   "outputs": [
    {
     "data": {
      "text/plain": [
       "False"
      ]
     },
     "execution_count": 23,
     "metadata": {},
     "output_type": "execute_result"
    }
   ],
   "source": [
    "hino.endswith('Flamengo')"
   ]
  }
 ],
 "metadata": {
  "kernelspec": {
   "display_name": "Python 3",
   "language": "python",
   "name": "python3"
  },
  "language_info": {
   "codemirror_mode": {
    "name": "ipython",
    "version": 3
   },
   "file_extension": ".py",
   "mimetype": "text/x-python",
   "name": "python",
   "nbconvert_exporter": "python",
   "pygments_lexer": "ipython3",
   "version": "3.7.4"
  }
 },
 "nbformat": 4,
 "nbformat_minor": 2
}
