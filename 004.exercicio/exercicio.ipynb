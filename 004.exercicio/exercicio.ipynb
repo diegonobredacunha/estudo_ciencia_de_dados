{
 "cells": [
  {
   "cell_type": "code",
   "execution_count": null,
   "metadata": {},
   "outputs": [],
   "source": [
    "Exercicio\n",
    "\n",
    "Na expressão abaixo:\n",
    "\n",
    "Dados de acesso do cliente universidade de dados:\n",
    "01/02/2017 \"3.878.00\"\n",
    "02/02/2017 \"6.088.00\"\n",
    "03/02/2017 \"645.00\"\n",
    "04/02/2017 \"10.876.00\"\n",
    "\n",
    "necesitamos do primeiro valor de acesso 3.878.00\n",
    "armazene o valor em uma variável"
   ]
  },
  {
   "cell_type": "code",
   "execution_count": 1,
   "metadata": {},
   "outputs": [
    {
     "name": "stdout",
     "output_type": "stream",
     "text": [
      "Dados de acesso do cliente universidade de dados:\n",
      "01/02/2017 \"3.878.00\"\n",
      "02/02/2017 \"6.088.00\"\n",
      "03/02/2017 \"645.00\"\n",
      "04/02/2017 \"10.876.00\"\n"
     ]
    }
   ],
   "source": [
    "expr = '''Dados de acesso do cliente universidade de dados:\n",
    "01/02/2017 \"3.878.00\"\n",
    "02/02/2017 \"6.088.00\"\n",
    "03/02/2017 \"645.00\"\n",
    "04/02/2017 \"10.876.00\"'''\n",
    "\n",
    "print(expr)"
   ]
  },
  {
   "cell_type": "code",
   "execution_count": 14,
   "metadata": {},
   "outputs": [
    {
     "name": "stdout",
     "output_type": "stream",
     "text": [
      "62\n"
     ]
    }
   ],
   "source": [
    "# Utilizando indexadores e find\n",
    "inicio = expr.find('\"') + 1\n",
    "\n",
    "print(inicio)"
   ]
  },
  {
   "cell_type": "code",
   "execution_count": 23,
   "metadata": {},
   "outputs": [
    {
     "name": "stdout",
     "output_type": "stream",
     "text": [
      "67\n"
     ]
    }
   ],
   "source": [
    "fim = expr.find('.00\"', inicio)\n",
    "print(fim)"
   ]
  },
  {
   "cell_type": "code",
   "execution_count": 22,
   "metadata": {},
   "outputs": [
    {
     "name": "stdout",
     "output_type": "stream",
     "text": [
      "3.878\n"
     ]
    }
   ],
   "source": [
    "print(expr[inicio:fim])"
   ]
  }
 ],
 "metadata": {
  "kernelspec": {
   "display_name": "Python 3",
   "language": "python",
   "name": "python3"
  },
  "language_info": {
   "codemirror_mode": {
    "name": "ipython",
    "version": 3
   },
   "file_extension": ".py",
   "mimetype": "text/x-python",
   "name": "python",
   "nbconvert_exporter": "python",
   "pygments_lexer": "ipython3",
   "version": "3.6.9"
  }
 },
 "nbformat": 4,
 "nbformat_minor": 2
}
