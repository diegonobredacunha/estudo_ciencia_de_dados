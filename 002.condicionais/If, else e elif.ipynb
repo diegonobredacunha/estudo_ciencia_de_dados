{
 "cells": [
  {
   "cell_type": "code",
   "execution_count": null,
   "metadata": {
    "scrolled": true
   },
   "outputs": [],
   "source": [
    "a = \"dentro do if\"\n",
    "b = \"dentro do else\"\n",
    "\n",
    "if (2 == 3):\n",
    "    print(a)\n",
    "else:\n",
    "    print(b)"
   ]
  },
  {
   "cell_type": "code",
   "execution_count": null,
   "metadata": {
    "scrolled": true
   },
   "outputs": [],
   "source": [
    "num = 20\n",
    "\n",
    "if num > 40:\n",
    "    if num <= 50:\n",
    "        print(\"menor ou igual a 50\")\n",
    "    else:\n",
    "        print(\"maior que 50\")\n",
    "else:\n",
    "    if num >= 10:\n",
    "        print(\"menor ou igual a 40 e maior que 10\")\n",
    "    else:\n",
    "        print(\"menor ou igual a 40 e menor que 10\")"
   ]
  },
  {
   "cell_type": "code",
   "execution_count": null,
   "metadata": {},
   "outputs": [],
   "source": [
    "if 2 > 3:\n",
    "    print(\"Opção 1\")\n",
    "elif 2 == 3:\n",
    "    print(\"Opção 2\")\n",
    "elif 2 < 3:\n",
    "    print(\"Opção 3\")\n",
    "else:\n",
    "    print(\"Opção 4\")"
   ]
  },
  {
   "cell_type": "code",
   "execution_count": null,
   "metadata": {},
   "outputs": [],
   "source": [
    "a = 1325861\n",
    "\n",
    "if a % 2 == 0:\n",
    "    print(\"par\")\n",
    "else:\n",
    "    print(\"impar\")"
   ]
  }
 ],
 "metadata": {
  "kernelspec": {
   "display_name": "Python 3",
   "language": "python",
   "name": "python3"
  },
  "language_info": {
   "codemirror_mode": {
    "name": "ipython",
    "version": 3
   },
   "file_extension": ".py",
   "mimetype": "text/x-python",
   "name": "python",
   "nbconvert_exporter": "python",
   "pygments_lexer": "ipython3",
   "version": "3.7.4"
  }
 },
 "nbformat": 4,
 "nbformat_minor": 2
}
